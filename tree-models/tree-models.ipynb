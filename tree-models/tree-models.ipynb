{
 "cells": [
  {
   "cell_type": "markdown",
   "id": "6bceac08-b223-4880-bcf4-ecd69b91e444",
   "metadata": {},
   "source": [
    "### Tree models - Decision Trees"
   ]
  },
  {
   "cell_type": "markdown",
   "id": "a523d36f-40eb-4340-b1e4-1a1efc4d2a6e",
   "metadata": {},
   "source": [
    "#### Import the necessary python packages"
   ]
  },
  {
   "cell_type": "code",
   "execution_count": 23,
   "id": "5acd7bbc-bbba-4767-bdc8-245b9809f31a",
   "metadata": {},
   "outputs": [],
   "source": [
    "import numpy as np\n",
    "import pandas as pd\n",
    "import matplotlib.pyplot as plt\n",
    "from sklearn import metrics, preprocessing\n",
    "from sklearn.tree import DecisionTreeClassifier\n",
    "from sklearn.model_selection import train_test_split"
   ]
  },
  {
   "cell_type": "markdown",
   "id": "07737a8f-6443-42d0-9166-4696ac56565b",
   "metadata": {},
   "source": [
    "#### Load the CSV file"
   ]
  },
  {
   "cell_type": "code",
   "execution_count": 24,
   "id": "fd7e86cc-9fa9-4a29-bcca-71a4a4bfc22b",
   "metadata": {},
   "outputs": [],
   "source": [
    "bank_train = pd.read_csv (\"input/bank_train.csv\")"
   ]
  },
  {
   "cell_type": "markdown",
   "id": "02eecddc-5eda-4360-a702-51db22c446fa",
   "metadata": {},
   "source": [
    "#### Create the Dependent and Target Variables dataset"
   ]
  },
  {
   "cell_type": "code",
   "execution_count": 25,
   "id": "67c88e4a-2d41-4bb6-ad68-4e53e6a6a9ed",
   "metadata": {},
   "outputs": [],
   "source": [
    "y = bank_train['purchased']\n",
    "# Putting feature variable to X\n",
    "X = bank_train.drop(['purchased'],axis=1)"
   ]
  },
  {
   "cell_type": "markdown",
   "id": "7c3ab0b6-cda1-45e9-a940-87c27cd2f074",
   "metadata": {},
   "source": [
    "#### Split the dataset into Train and Test dataset"
   ]
  },
  {
   "cell_type": "code",
   "execution_count": 26,
   "id": "ec85ec64-5da0-419c-9cba-e8df3d4fd767",
   "metadata": {},
   "outputs": [],
   "source": [
    "X_train, X_test, y_train, y_test = train_test_split(X, y, test_size=0.33, random_state=42)"
   ]
  },
  {
   "cell_type": "code",
   "execution_count": 27,
   "id": "cfe291ae-295b-4777-bfda-1db0aaf7d728",
   "metadata": {},
   "outputs": [],
   "source": [
    "_id = X_test['id']\n",
    "X_test = X_test.drop(['id'],axis=1)\n",
    "X_train = X_train.drop(['id'],axis=1)"
   ]
  },
  {
   "cell_type": "markdown",
   "id": "58386461-5ad0-40df-8e74-5525564cedfe",
   "metadata": {},
   "source": [
    "#### Train the model using DecisionTreeClassifier"
   ]
  },
  {
   "cell_type": "code",
   "execution_count": 28,
   "id": "24664b76-1d59-4408-ae8f-93dcad3324c9",
   "metadata": {},
   "outputs": [],
   "source": [
    "dt_default = DecisionTreeClassifier(max_depth=5)\n",
    "dt_default.fit(X_train, y_train)\n",
    "y_pred_default = dt_default.predict(X_test)"
   ]
  },
  {
   "cell_type": "code",
   "execution_count": 29,
   "id": "5b62c783-d367-4927-b463-930757bc8fd1",
   "metadata": {},
   "outputs": [],
   "source": [
    "# Write the columns 'id' and 'predictions' into the output file\n",
    "d = pd.DataFrame({'id': _id, 'bank_predicted': y_pred_default})"
   ]
  },
  {
   "cell_type": "markdown",
   "id": "dfe38f2e-38d4-4ba1-bcf2-bdb9687fa0de",
   "metadata": {},
   "source": [
    "#### Write the predicted data into a CSV file"
   ]
  },
  {
   "cell_type": "code",
   "execution_count": 30,
   "id": "7bdb4a4b-640f-41be-a250-1d8e44dddfb7",
   "metadata": {},
   "outputs": [],
   "source": [
    "# Write the output\n",
    "d.to_csv('output/bank_predictions.csv', sep=\",\",index=False)b"
   ]
  }
 ],
 "metadata": {
  "kernelspec": {
   "display_name": "Python 3 (ipykernel)",
   "language": "python",
   "name": "python3"
  },
  "language_info": {
   "codemirror_mode": {
    "name": "ipython",
    "version": 3
   },
   "file_extension": ".py",
   "mimetype": "text/x-python",
   "name": "python",
   "nbconvert_exporter": "python",
   "pygments_lexer": "ipython3",
   "version": "3.9.0"
  }
 },
 "nbformat": 4,
 "nbformat_minor": 5
}
